{
  "nbformat": 4,
  "nbformat_minor": 0,
  "metadata": {
    "colab": {
      "name": "DQLAB_Mini Projek_Exploratory Data Analysis.ipynb",
      "provenance": [],
      "authorship_tag": "ABX9TyMrVvsYdU41czRrvvT3O0/7",
      "include_colab_link": true
    },
    "kernelspec": {
      "name": "python3",
      "display_name": "Python 3"
    }
  },
  "cells": [
    {
      "cell_type": "markdown",
      "metadata": {
        "id": "view-in-github",
        "colab_type": "text"
      },
      "source": [
        "<a href=\"https://colab.research.google.com/github/Nani0012/Exploratory-Data-Analysis/blob/main/DQLAB_Mini_Projek_Exploratory_Data_Analysis.ipynb\" target=\"_parent\"><img src=\"https://colab.research.google.com/assets/colab-badge.svg\" alt=\"Open In Colab\"/></a>"
      ]
    },
    {
      "cell_type": "code",
      "metadata": {
        "id": "QjccslTCsf79",
        "colab": {
          "base_uri": "https://localhost:8080/",
          "height": 224
        },
        "outputId": "44d7b614-5b04-4b26-a0f6-9ae6f34f50de"
      },
      "source": [
        "import pandas as pd\n",
        "import matplotlib.pyplot as plt\n",
        "order_df = pd.read_csv(\"https://storage.googleapis.com/dqlab-dataset/order.csv\")\n",
        "order_df.head()"
      ],
      "execution_count": null,
      "outputs": [
        {
          "output_type": "execute_result",
          "data": {
            "text/html": [
              "<div>\n",
              "<style scoped>\n",
              "    .dataframe tbody tr th:only-of-type {\n",
              "        vertical-align: middle;\n",
              "    }\n",
              "\n",
              "    .dataframe tbody tr th {\n",
              "        vertical-align: top;\n",
              "    }\n",
              "\n",
              "    .dataframe thead th {\n",
              "        text-align: right;\n",
              "    }\n",
              "</style>\n",
              "<table border=\"1\" class=\"dataframe\">\n",
              "  <thead>\n",
              "    <tr style=\"text-align: right;\">\n",
              "      <th></th>\n",
              "      <th>order_id</th>\n",
              "      <th>quantity</th>\n",
              "      <th>product_id</th>\n",
              "      <th>price</th>\n",
              "      <th>seller_id</th>\n",
              "      <th>freight_value</th>\n",
              "      <th>customer_id</th>\n",
              "      <th>order_status</th>\n",
              "      <th>purchase_date</th>\n",
              "      <th>payment_type</th>\n",
              "      <th>product_category_name</th>\n",
              "      <th>product_weight_gram</th>\n",
              "    </tr>\n",
              "  </thead>\n",
              "  <tbody>\n",
              "    <tr>\n",
              "      <th>0</th>\n",
              "      <td>2e7a8482f6fb09756ca50c10d7bfc047</td>\n",
              "      <td>2</td>\n",
              "      <td>f293394c72c9b5fafd7023301fc21fc2</td>\n",
              "      <td>1489000</td>\n",
              "      <td>1554a68530182680ad5c8b042c3ab563</td>\n",
              "      <td>28000</td>\n",
              "      <td>08c5351a6aca1c1589a38f244edeee9d</td>\n",
              "      <td>shipped</td>\n",
              "      <td>2016-09-05</td>\n",
              "      <td>virtual account</td>\n",
              "      <td>fashion</td>\n",
              "      <td>1800.0</td>\n",
              "    </tr>\n",
              "    <tr>\n",
              "      <th>1</th>\n",
              "      <td>2e7a8482f6fb09756ca50c10d7bfc047</td>\n",
              "      <td>1</td>\n",
              "      <td>c1488892604e4ba5cff5b4eb4d595400</td>\n",
              "      <td>1756000</td>\n",
              "      <td>1554a68530182680ad5c8b042c3ab563</td>\n",
              "      <td>45000</td>\n",
              "      <td>08c5351a6aca1c1589a38f244edeee9d</td>\n",
              "      <td>shipped</td>\n",
              "      <td>2016-09-05</td>\n",
              "      <td>virtual account</td>\n",
              "      <td>automotive</td>\n",
              "      <td>1400.0</td>\n",
              "    </tr>\n",
              "    <tr>\n",
              "      <th>2</th>\n",
              "      <td>e5fa5a7210941f7d56d0208e4e071d35</td>\n",
              "      <td>1</td>\n",
              "      <td>f3c2d01a84c947b078e32bbef0718962</td>\n",
              "      <td>1707000</td>\n",
              "      <td>a425f92c199eb576938df686728acd20</td>\n",
              "      <td>174000</td>\n",
              "      <td>683c54fc24d40ee9f8a6fc179fd9856c</td>\n",
              "      <td>canceled</td>\n",
              "      <td>2016-09-05</td>\n",
              "      <td>e-wallet</td>\n",
              "      <td>toys</td>\n",
              "      <td>700.0</td>\n",
              "    </tr>\n",
              "    <tr>\n",
              "      <th>3</th>\n",
              "      <td>3b697a20d9e427646d92567910af6d57</td>\n",
              "      <td>1</td>\n",
              "      <td>3ae08df6bcbfe23586dd431c40bddbb7</td>\n",
              "      <td>3071000</td>\n",
              "      <td>522620dcb18a6b31cd7bdf73665113a9</td>\n",
              "      <td>154000</td>\n",
              "      <td>355077684019f7f60a031656bd7262b8</td>\n",
              "      <td>delivered</td>\n",
              "      <td>2016-10-03</td>\n",
              "      <td>e-wallet</td>\n",
              "      <td>utilities</td>\n",
              "      <td>300.0</td>\n",
              "    </tr>\n",
              "    <tr>\n",
              "      <th>4</th>\n",
              "      <td>71303d7e93b399f5bcd537d124c0bcfa</td>\n",
              "      <td>1</td>\n",
              "      <td>d2998d7ced12f83f9b832f33cf6507b6</td>\n",
              "      <td>3833000</td>\n",
              "      <td>25e6ffe976bd75618accfe16cefcbd0d</td>\n",
              "      <td>147000</td>\n",
              "      <td>b106b360fe2ef8849fbbd056f777b4d5</td>\n",
              "      <td>canceled</td>\n",
              "      <td>2016-10-03</td>\n",
              "      <td>e-wallet</td>\n",
              "      <td>fashion</td>\n",
              "      <td>500.0</td>\n",
              "    </tr>\n",
              "  </tbody>\n",
              "</table>\n",
              "</div>"
            ],
            "text/plain": [
              "                           order_id  ...  product_weight_gram\n",
              "0  2e7a8482f6fb09756ca50c10d7bfc047  ...               1800.0\n",
              "1  2e7a8482f6fb09756ca50c10d7bfc047  ...               1400.0\n",
              "2  e5fa5a7210941f7d56d0208e4e071d35  ...                700.0\n",
              "3  3b697a20d9e427646d92567910af6d57  ...                300.0\n",
              "4  71303d7e93b399f5bcd537d124c0bcfa  ...                500.0\n",
              "\n",
              "[5 rows x 12 columns]"
            ]
          },
          "metadata": {
            "tags": []
          },
          "execution_count": 2
        }
      ]
    },
    {
      "cell_type": "code",
      "metadata": {
        "colab": {
          "base_uri": "https://localhost:8080/"
        },
        "id": "O21vwiBTDnc3",
        "outputId": "637277a6-f157-4a48-8512-68b195e2ce07"
      },
      "source": [
        "median_price = order_df[\"price\"].groupby(order_df.loc[:,\"payment_type\"]).median()\n",
        "print(median_price)"
      ],
      "execution_count": null,
      "outputs": [
        {
          "output_type": "stream",
          "text": [
            "payment_type\n",
            "credit card        2587500\n",
            "debit card         2621500\n",
            "e-wallet           2589000\n",
            "virtual account    2643000\n",
            "Name: price, dtype: int64\n"
          ],
          "name": "stdout"
        }
      ]
    },
    {
      "cell_type": "code",
      "metadata": {
        "colab": {
          "base_uri": "https://localhost:8080/",
          "height": 439
        },
        "id": "n_eGSPR1FC4K",
        "outputId": "d7f4047b-5be4-42ae-b3e7-04c9a0c0323c"
      },
      "source": [
        "order_df.rename(columns={\"freight_value\": \"shipping_cost\"}, inplace=True)\n",
        "order_df"
      ],
      "execution_count": null,
      "outputs": [
        {
          "output_type": "execute_result",
          "data": {
            "text/html": [
              "<div>\n",
              "<style scoped>\n",
              "    .dataframe tbody tr th:only-of-type {\n",
              "        vertical-align: middle;\n",
              "    }\n",
              "\n",
              "    .dataframe tbody tr th {\n",
              "        vertical-align: top;\n",
              "    }\n",
              "\n",
              "    .dataframe thead th {\n",
              "        text-align: right;\n",
              "    }\n",
              "</style>\n",
              "<table border=\"1\" class=\"dataframe\">\n",
              "  <thead>\n",
              "    <tr style=\"text-align: right;\">\n",
              "      <th></th>\n",
              "      <th>order_id</th>\n",
              "      <th>quantity</th>\n",
              "      <th>product_id</th>\n",
              "      <th>price</th>\n",
              "      <th>seller_id</th>\n",
              "      <th>shipping_cost</th>\n",
              "      <th>customer_id</th>\n",
              "      <th>order_status</th>\n",
              "      <th>purchase_date</th>\n",
              "      <th>payment_type</th>\n",
              "      <th>product_category_name</th>\n",
              "      <th>product_weight_gram</th>\n",
              "    </tr>\n",
              "  </thead>\n",
              "  <tbody>\n",
              "    <tr>\n",
              "      <th>0</th>\n",
              "      <td>2e7a8482f6fb09756ca50c10d7bfc047</td>\n",
              "      <td>2</td>\n",
              "      <td>f293394c72c9b5fafd7023301fc21fc2</td>\n",
              "      <td>1489000</td>\n",
              "      <td>1554a68530182680ad5c8b042c3ab563</td>\n",
              "      <td>28000</td>\n",
              "      <td>08c5351a6aca1c1589a38f244edeee9d</td>\n",
              "      <td>shipped</td>\n",
              "      <td>2016-09-05</td>\n",
              "      <td>virtual account</td>\n",
              "      <td>fashion</td>\n",
              "      <td>1800.0</td>\n",
              "    </tr>\n",
              "    <tr>\n",
              "      <th>1</th>\n",
              "      <td>2e7a8482f6fb09756ca50c10d7bfc047</td>\n",
              "      <td>1</td>\n",
              "      <td>c1488892604e4ba5cff5b4eb4d595400</td>\n",
              "      <td>1756000</td>\n",
              "      <td>1554a68530182680ad5c8b042c3ab563</td>\n",
              "      <td>45000</td>\n",
              "      <td>08c5351a6aca1c1589a38f244edeee9d</td>\n",
              "      <td>shipped</td>\n",
              "      <td>2016-09-05</td>\n",
              "      <td>virtual account</td>\n",
              "      <td>automotive</td>\n",
              "      <td>1400.0</td>\n",
              "    </tr>\n",
              "    <tr>\n",
              "      <th>2</th>\n",
              "      <td>e5fa5a7210941f7d56d0208e4e071d35</td>\n",
              "      <td>1</td>\n",
              "      <td>f3c2d01a84c947b078e32bbef0718962</td>\n",
              "      <td>1707000</td>\n",
              "      <td>a425f92c199eb576938df686728acd20</td>\n",
              "      <td>174000</td>\n",
              "      <td>683c54fc24d40ee9f8a6fc179fd9856c</td>\n",
              "      <td>canceled</td>\n",
              "      <td>2016-09-05</td>\n",
              "      <td>e-wallet</td>\n",
              "      <td>toys</td>\n",
              "      <td>700.0</td>\n",
              "    </tr>\n",
              "    <tr>\n",
              "      <th>3</th>\n",
              "      <td>3b697a20d9e427646d92567910af6d57</td>\n",
              "      <td>1</td>\n",
              "      <td>3ae08df6bcbfe23586dd431c40bddbb7</td>\n",
              "      <td>3071000</td>\n",
              "      <td>522620dcb18a6b31cd7bdf73665113a9</td>\n",
              "      <td>154000</td>\n",
              "      <td>355077684019f7f60a031656bd7262b8</td>\n",
              "      <td>delivered</td>\n",
              "      <td>2016-10-03</td>\n",
              "      <td>e-wallet</td>\n",
              "      <td>utilities</td>\n",
              "      <td>300.0</td>\n",
              "    </tr>\n",
              "    <tr>\n",
              "      <th>4</th>\n",
              "      <td>71303d7e93b399f5bcd537d124c0bcfa</td>\n",
              "      <td>1</td>\n",
              "      <td>d2998d7ced12f83f9b832f33cf6507b6</td>\n",
              "      <td>3833000</td>\n",
              "      <td>25e6ffe976bd75618accfe16cefcbd0d</td>\n",
              "      <td>147000</td>\n",
              "      <td>b106b360fe2ef8849fbbd056f777b4d5</td>\n",
              "      <td>canceled</td>\n",
              "      <td>2016-10-03</td>\n",
              "      <td>e-wallet</td>\n",
              "      <td>fashion</td>\n",
              "      <td>500.0</td>\n",
              "    </tr>\n",
              "    <tr>\n",
              "      <th>...</th>\n",
              "      <td>...</td>\n",
              "      <td>...</td>\n",
              "      <td>...</td>\n",
              "      <td>...</td>\n",
              "      <td>...</td>\n",
              "      <td>...</td>\n",
              "      <td>...</td>\n",
              "      <td>...</td>\n",
              "      <td>...</td>\n",
              "      <td>...</td>\n",
              "      <td>...</td>\n",
              "      <td>...</td>\n",
              "    </tr>\n",
              "    <tr>\n",
              "      <th>49994</th>\n",
              "      <td>ec88157ad03aa203c3fdfe7bace5ab6b</td>\n",
              "      <td>1</td>\n",
              "      <td>165f86fe8b799a708a20ee4ba125c289</td>\n",
              "      <td>3077000</td>\n",
              "      <td>7ddcbb64b5bc1ef36ca8c151f6ec77df</td>\n",
              "      <td>172000</td>\n",
              "      <td>1642b8087a8ca0c8592becff7e183c98</td>\n",
              "      <td>delivered</td>\n",
              "      <td>2017-12-15</td>\n",
              "      <td>e-wallet</td>\n",
              "      <td>automotive</td>\n",
              "      <td>2425.0</td>\n",
              "    </tr>\n",
              "    <tr>\n",
              "      <th>49995</th>\n",
              "      <td>ed60085e92e2aa3debf49159deb34da7</td>\n",
              "      <td>1</td>\n",
              "      <td>6e835aea84ae8eb68b8c14878dd43b30</td>\n",
              "      <td>1277000</td>\n",
              "      <td>4d6d651bd7684af3fffabd5f08d12e5a</td>\n",
              "      <td>130000</td>\n",
              "      <td>431bbb57d52f3141ab2f33a6a4cf00a6</td>\n",
              "      <td>delivered</td>\n",
              "      <td>2017-12-15</td>\n",
              "      <td>debit card</td>\n",
              "      <td>beauty</td>\n",
              "      <td>2350.0</td>\n",
              "    </tr>\n",
              "    <tr>\n",
              "      <th>49996</th>\n",
              "      <td>ed98c37d860890f940e2acd83629fdd1</td>\n",
              "      <td>2</td>\n",
              "      <td>aca2eb7d00ea1a7b8ebd4e68314663af</td>\n",
              "      <td>486000</td>\n",
              "      <td>955fee9216a65b617aa5c0531780ce60</td>\n",
              "      <td>14000</td>\n",
              "      <td>71f8cd490677ee95362201588c0eaff4</td>\n",
              "      <td>delivered</td>\n",
              "      <td>2017-12-15</td>\n",
              "      <td>debit card</td>\n",
              "      <td>gadget</td>\n",
              "      <td>2600.0</td>\n",
              "    </tr>\n",
              "    <tr>\n",
              "      <th>49997</th>\n",
              "      <td>ed98c37d860890f940e2acd83629fdd1</td>\n",
              "      <td>1</td>\n",
              "      <td>aca2eb7d00ea1a7b8ebd4e68314663af</td>\n",
              "      <td>830000</td>\n",
              "      <td>955fee9216a65b617aa5c0531780ce60</td>\n",
              "      <td>108000</td>\n",
              "      <td>71f8cd490677ee95362201588c0eaff4</td>\n",
              "      <td>delivered</td>\n",
              "      <td>2017-12-15</td>\n",
              "      <td>e-wallet</td>\n",
              "      <td>gadget</td>\n",
              "      <td>2600.0</td>\n",
              "    </tr>\n",
              "    <tr>\n",
              "      <th>49998</th>\n",
              "      <td>ede4ebbb6e36cbd377eabcc7f5229575</td>\n",
              "      <td>1</td>\n",
              "      <td>2b0ee2d07306f7c9ac55a43166e9bb4b</td>\n",
              "      <td>215000</td>\n",
              "      <td>1900267e848ceeba8fa32d80c1a5f5a8</td>\n",
              "      <td>189000</td>\n",
              "      <td>60d2d93a97ec1ad751f2ddce9249ba2a</td>\n",
              "      <td>delivered</td>\n",
              "      <td>2017-12-15</td>\n",
              "      <td>credit card</td>\n",
              "      <td>beauty</td>\n",
              "      <td>1450.0</td>\n",
              "    </tr>\n",
              "  </tbody>\n",
              "</table>\n",
              "<p>49999 rows × 12 columns</p>\n",
              "</div>"
            ],
            "text/plain": [
              "                               order_id  ...  product_weight_gram\n",
              "0      2e7a8482f6fb09756ca50c10d7bfc047  ...               1800.0\n",
              "1      2e7a8482f6fb09756ca50c10d7bfc047  ...               1400.0\n",
              "2      e5fa5a7210941f7d56d0208e4e071d35  ...                700.0\n",
              "3      3b697a20d9e427646d92567910af6d57  ...                300.0\n",
              "4      71303d7e93b399f5bcd537d124c0bcfa  ...                500.0\n",
              "...                                 ...  ...                  ...\n",
              "49994  ec88157ad03aa203c3fdfe7bace5ab6b  ...               2425.0\n",
              "49995  ed60085e92e2aa3debf49159deb34da7  ...               2350.0\n",
              "49996  ed98c37d860890f940e2acd83629fdd1  ...               2600.0\n",
              "49997  ed98c37d860890f940e2acd83629fdd1  ...               2600.0\n",
              "49998  ede4ebbb6e36cbd377eabcc7f5229575  ...               1450.0\n",
              "\n",
              "[49999 rows x 12 columns]"
            ]
          },
          "metadata": {
            "tags": []
          },
          "execution_count": 9
        }
      ]
    },
    {
      "cell_type": "code",
      "metadata": {
        "colab": {
          "base_uri": "https://localhost:8080/"
        },
        "id": "Wgz5vfDDFi-x",
        "outputId": "cd116870-02e0-4ae8-90f3-4b2afad91d70"
      },
      "source": [
        "sort_value = order_df.sort_values(by=\"shipping_cost\", ascending=0)\n",
        "print(sort_value)"
      ],
      "execution_count": null,
      "outputs": [
        {
          "output_type": "stream",
          "text": [
            "                               order_id  ...  product_weight_gram\n",
            "23829  7d63cb1d349e7bd0ee1edcc61ea71077  ...                400.0\n",
            "12011  00c9f7d4b0e87781465e562dc109f6aa  ...                900.0\n",
            "10984  69013d19f8db4cd7dc9f3b5c2564a96f  ...                250.0\n",
            "29722  f32c4d2b078bc5a354f4c1184522b5ff  ...                450.0\n",
            "15259  c8eab0ccabe8cdfc2afce66c1c554ae2  ...                100.0\n",
            "...                                 ...  ...                  ...\n",
            "2891   1d0e8770169496e47622b6cbc0d10bda  ...                900.0\n",
            "36815  4bff82a994068f564e54b52b08ef4512  ...                150.0\n",
            "8175   e6b1fa22555c3064f984ebeb8a88de77  ...                250.0\n",
            "4034   8ac2728285fd4228f35d907768b5288a  ...               1700.0\n",
            "32994  0286e258217733541e80588e29c208c1  ...                700.0\n",
            "\n",
            "[49999 rows x 12 columns]\n"
          ],
          "name": "stdout"
        }
      ]
    },
    {
      "cell_type": "code",
      "metadata": {
        "colab": {
          "base_uri": "https://localhost:8080/"
        },
        "id": "lweKBBlFGU1R",
        "outputId": "631068af-a954-49be-aa9c-6acbde1ef92c"
      },
      "source": [
        "mean_value = order_df[\"product_weight_gram\"].groupby(order_df[\"product_category_name\"]).mean()\n",
        "print(mean_value.sort_values())"
      ],
      "execution_count": null,
      "outputs": [
        {
          "output_type": "stream",
          "text": [
            "product_category_name\n",
            "beauty         2120.088396\n",
            "automotive     2129.559039\n",
            "electronics    2144.751191\n",
            "toys           2203.863643\n",
            "gadget         2229.632942\n",
            "fashion        2246.516901\n",
            "sports         2251.879909\n",
            "utilities      2291.029868\n",
            "Name: product_weight_gram, dtype: float64\n"
          ],
          "name": "stdout"
        }
      ]
    },
    {
      "cell_type": "code",
      "metadata": {
        "colab": {
          "base_uri": "https://localhost:8080/"
        },
        "id": "SRSpEKARGpMk",
        "outputId": "20ae6044-5e48-4d32-e8c8-1f8a5dc5fad9"
      },
      "source": [
        "std_value = order_df[\"product_weight_gram\"].groupby(order_df[\"product_category_name\"]).std()\n",
        "print(std_value.sort_values())"
      ],
      "execution_count": null,
      "outputs": [
        {
          "output_type": "stream",
          "text": [
            "product_category_name\n",
            "automotive     3799.884166\n",
            "beauty         3837.474929\n",
            "electronics    3839.271768\n",
            "fashion        3858.885213\n",
            "gadget         3955.792741\n",
            "toys           3956.814749\n",
            "sports         4032.850044\n",
            "utilities      4150.509909\n",
            "Name: product_weight_gram, dtype: float64\n"
          ],
          "name": "stdout"
        }
      ]
    },
    {
      "cell_type": "code",
      "metadata": {
        "colab": {
          "base_uri": "https://localhost:8080/",
          "height": 320
        },
        "id": "fW1zEBDFHNkB",
        "outputId": "b28de138-ca80-4e35-ed49-e5b2f392e3b9"
      },
      "source": [
        "order_df[[\"quantity\"]].plot.hist(figsize=(4, 5), bins=5)\n",
        "plt.show()"
      ],
      "execution_count": null,
      "outputs": [
        {
          "output_type": "display_data",
          "data": {
            "image/png": "[encoded data removed]",
            "text/plain": [
              "<Figure size 288x360 with 1 Axes>"
            ]
          },
          "metadata": {
            "tags": [],
            "needs_background": "light"
          }
        }
      ]
    },
    {
      "cell_type": "code",
      "metadata": {
        "id": "eBK65UqRHdkB"
      },
      "source": [
        ""
      ],
      "execution_count": null,
      "outputs": []
    }
  ]
}